{
 "cells": [
  {
   "cell_type": "code",
   "execution_count": 1,
   "metadata": {},
   "outputs": [],
   "source": [
    "class BinaryTreeNode:\n",
    "    def __init__(self,data) -> None:\n",
    "        self.data=data\n",
    "        self.left=None\n",
    "        self.right=None\n",
    "        "
   ]
  },
  {
   "attachments": {},
   "cell_type": "markdown",
   "metadata": {},
   "source": [
    "    THIS ISS THE BASE CASE OF THE NODE GREATER THEN THERE SIBLNGS THAT WE HAVE TO USE IN OUR QUESTION \n",
    "    "
   ]
  },
  {
   "cell_type": "code",
   "execution_count": 2,
   "metadata": {},
   "outputs": [],
   "source": [
    "def printNodesWithoutSiblings(root):\n",
    "    if root==None:\n",
    "        return \n",
    "\n",
    "    if root.left is not None and root.right is not None:\n",
    "        printNodesWithoutSiblings(root.left)\n",
    "        printNodesWithoutSiblings(root.right)\n",
    "\n",
    "\n",
    "    elif root.right is not None:\n",
    "        print(root.right.data,end=\" \")\n",
    "        printNodesWithoutSiblings(root.right)\n",
    "\n",
    "    elif root.left is not None:\n",
    "        print(root.left.data,end=\" \")\n",
    "        printNodesWithoutSiblings(root.left)\n",
    "        "
   ]
  }
 ],
 "metadata": {
  "kernelspec": {
   "display_name": "base",
   "language": "python",
   "name": "python3"
  },
  "language_info": {
   "codemirror_mode": {
    "name": "ipython",
    "version": 3
   },
   "file_extension": ".py",
   "mimetype": "text/x-python",
   "name": "python",
   "nbconvert_exporter": "python",
   "pygments_lexer": "ipython3",
   "version": "3.9.13 (main, Aug 25 2022, 23:51:50) [MSC v.1916 64 bit (AMD64)]"
  },
  "orig_nbformat": 4,
  "vscode": {
   "interpreter": {
    "hash": "19e3ed3879c13a0a3709fc77aecbc5c79d8539dfda6d4462a1c416bc4ea67350"
   }
  }
 },
 "nbformat": 4,
 "nbformat_minor": 2
}
