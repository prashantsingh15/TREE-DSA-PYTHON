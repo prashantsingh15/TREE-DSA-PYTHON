{
 "cells": [
  {
   "cell_type": "code",
   "execution_count": 8,
   "metadata": {},
   "outputs": [],
   "source": [
    "class BinaryTreeNode:\n",
    "    def __init__(self,data) -> None:\n",
    "        self.data=data\n",
    "        self.left=None\n",
    "        self.right=None\n",
    "        "
   ]
  },
  {
   "cell_type": "code",
   "execution_count": 11,
   "metadata": {},
   "outputs": [],
   "source": [
    "def printTree(root):\n",
    "    if root==None:\n",
    "        return \n",
    "    print(root.data,end=\" \")\n",
    "    print(root.left)\n",
    "    print(root.right)\n",
    "    "
   ]
  },
  {
   "cell_type": "code",
   "execution_count": 12,
   "metadata": {},
   "outputs": [],
   "source": [
    "def printDetailedTree(root):\n",
    "    if root ==None:\n",
    "        return\n",
    "\n",
    "    print(root.data,end=\":\")\n",
    "    if root.left !=None:\n",
    "        print(\"L\",root.left.data,end=\",\")\n",
    "    if root.right !=None:\n",
    "        print(\"R\",root.right.data,end=\"\")\n",
    "\n",
    "    print()\n",
    "    printDetailedTree(root.left)\n",
    "    printDetailedTree(root.right)\n",
    "    "
   ]
  },
  {
   "cell_type": "code",
   "execution_count": 13,
   "metadata": {},
   "outputs": [],
   "source": [
    "def treeInput():\n",
    "    rootData=int(input())\n",
    "    if rootData ==-1:\n",
    "        return None\n",
    "\n",
    "    root =BinaryTreeNode(rootData)\n",
    "    leftTree=treeInput()\n",
    "    rightTree=treeInput()\n",
    "    root.left=leftTree\n",
    "    root.right=rightTree\n",
    "    return root"
   ]
  },
  {
   "attachments": {},
   "cell_type": "markdown",
   "metadata": {},
   "source": [
    "FIRST PROCESS OF FINDING KTH ELEMENT ON A BINARY TREEE NODE :\n"
   ]
  },
  {
   "cell_type": "code",
   "execution_count": 14,
   "metadata": {},
   "outputs": [],
   "source": [
    "def printAtk(root,k):\n",
    "    if root ==None:\n",
    "        return \n",
    "\n",
    "    if k==0:\n",
    "        print(root.data)\n",
    "        return \n",
    "    \n",
    "    printAtk(root.left,k-1)\n",
    "    printAtk(root.right,k-1)\n",
    "\n"
   ]
  },
  {
   "attachments": {},
   "cell_type": "markdown",
   "metadata": {},
   "source": [
    "SECOND PROCESS OF FINDING 'K' TH ELEMENT IN BINARY TREE NODE:.......\n"
   ]
  },
  {
   "cell_type": "code",
   "execution_count": 16,
   "metadata": {},
   "outputs": [],
   "source": [
    "def printAtKV2(root,k,d=0):\n",
    "    if root ==None:\n",
    "        return \n",
    "\n",
    "    if k==d:\n",
    "        print(root.data)\n",
    "        return \n",
    "\n",
    "    printAtKV2(root.left,k,d+1)\n",
    "    printAtKV2(root.right,k,d+1)\n",
    "    "
   ]
  },
  {
   "cell_type": "code",
   "execution_count": 17,
   "metadata": {},
   "outputs": [
    {
     "name": "stdout",
     "output_type": "stream",
     "text": [
      "1:L 2,R 3\n",
      "2:L 4,R 5\n",
      "4:\n",
      "5:\n",
      "3:L 6,\n",
      "6:\n",
      "4\n",
      "5\n",
      "6\n"
     ]
    }
   ],
   "source": [
    "root=treeInput()\n",
    "printDetailedTree(root)\n",
    "printAtKV2(root,2)"
   ]
  }
 ],
 "metadata": {
  "kernelspec": {
   "display_name": "base",
   "language": "python",
   "name": "python3"
  },
  "language_info": {
   "codemirror_mode": {
    "name": "ipython",
    "version": 3
   },
   "file_extension": ".py",
   "mimetype": "text/x-python",
   "name": "python",
   "nbconvert_exporter": "python",
   "pygments_lexer": "ipython3",
   "version": "3.9.13 (main, Aug 25 2022, 23:51:50) [MSC v.1916 64 bit (AMD64)]"
  },
  "orig_nbformat": 4,
  "vscode": {
   "interpreter": {
    "hash": "19e3ed3879c13a0a3709fc77aecbc5c79d8539dfda6d4462a1c416bc4ea67350"
   }
  }
 },
 "nbformat": 4,
 "nbformat_minor": 2
}
