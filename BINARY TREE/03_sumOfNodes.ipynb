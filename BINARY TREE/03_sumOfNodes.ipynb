{
 "cells": [
  {
   "attachments": {},
   "cell_type": "markdown",
   "metadata": {},
   "source": [
    "For a given Binary Tree of integers, find and return the sum of all the nodes data.\n",
    "Example:\n",
    "                        10\n",
    "                      /      \\\n",
    "                    20      30\n",
    "                   /    \\\n",
    "                 40    50\n",
    "\n",
    "When we sum up all the nodes data together, [10, 20, 30, 40 50] we get 150. Hence, the output will be 150."
   ]
  },
  {
   "cell_type": "code",
   "execution_count": null,
   "metadata": {},
   "outputs": [],
   "source": [
    "from sys import stdin, setrecursionlimit\n",
    "import queue\n",
    "\n",
    "setrecursionlimit(10 ** 6)\n",
    "\n",
    "#Following the structure used for Binary Tree\n",
    "class BinaryTreeNode:\n",
    "    def __init__(self, data):\n",
    "        self.data = data\n",
    "        self.left = None\n",
    "        self.right = None\n",
    "\n",
    "\n",
    "\n",
    "def getSum(root):\n",
    "    if (root==None):\n",
    "        return 0\n",
    "\n",
    "    return (root.data + getSum(root.left) + getSum(root.right))\n",
    "\n",
    "\n"
   ]
  },
  {
   "cell_type": "code",
   "execution_count": null,
   "metadata": {},
   "outputs": [],
   "source": [
    "def PrintTreeDetailed(root):\n",
    "    if root == None:\n",
    "        return \n",
    "\n",
    "    print(root.data,end=\":\")\n",
    "    if root.left !=None:\n",
    "        print(\"L\",root.left.data,end=\",\")\n",
    "\n",
    "    if root.right != None:\n",
    "        print(\"R\",root.right.data)\n",
    "\n",
    "    print()\n",
    "\n",
    "    PrintTreeDetailed(root.left)\n",
    "    PrintTreeDetailed(root.right)"
   ]
  }
 ],
 "metadata": {
  "kernelspec": {
   "display_name": "base",
   "language": "python",
   "name": "python3"
  },
  "language_info": {
   "codemirror_mode": {
    "name": "ipython",
    "version": 3
   },
   "file_extension": ".py",
   "mimetype": "text/x-python",
   "name": "python",
   "nbconvert_exporter": "python",
   "pygments_lexer": "ipython3",
   "version": "3.9.13 (main, Aug 25 2022, 23:51:50) [MSC v.1916 64 bit (AMD64)]"
  },
  "orig_nbformat": 4,
  "vscode": {
   "interpreter": {
    "hash": "19e3ed3879c13a0a3709fc77aecbc5c79d8539dfda6d4462a1c416bc4ea67350"
   }
  }
 },
 "nbformat": 4,
 "nbformat_minor": 2
}
