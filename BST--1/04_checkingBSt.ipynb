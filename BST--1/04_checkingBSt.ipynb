{
 "cells": [
  {
   "cell_type": "code",
   "execution_count": 10,
   "metadata": {},
   "outputs": [],
   "source": [
    "class BinaryTreeNode:\n",
    "    def __init__(self,data):\n",
    "        self.data=data;\n",
    "        self.left=None\n",
    "        self.right=None\n",
    "\n",
    "def search(root,x):\n",
    "    if root==None:\n",
    "        return False\n",
    "    if root.data==x:\n",
    "        return True\n",
    "    elif root.data>x:\n",
    "        return search(root.left,x)\n",
    "    else:\n",
    "        return search(root.left,x)\n",
    "\n",
    "def printTreeDetailed(root):\n",
    "    if root==None:\n",
    "        return\n",
    "    print(root.data,end=\":\")\n",
    "    if root.left!=None:\n",
    "        print(\"L\",root.left.data,end=\",\")\n",
    "    if root.right!=None:\n",
    "        print(\"R\",root.right.data,end=\"\")\n",
    "    print()\n",
    "    printTreeDetailed(root.left)\n",
    "    printTreeDetailed(root.right)\n",
    "\n",
    "import queue\n",
    "def takeTreeInputLevelWise():\n",
    "    q=queue.Queue()\n",
    "    print(\"Enter root\")\n",
    "    rootData=int(input())\n",
    "    if rootData==-1:\n",
    "        return None\n",
    "    root=BinaryTreeNode(rootData)\n",
    "    q.put(root)\n",
    "    while(not(q.empty())):\n",
    "        current_node=q.get()\n",
    "        print(\"Enter left child of\",current_node.data)\n",
    "        leftChildData=int(input())\n",
    "        if leftChildData!=-1:\n",
    "            leftChild=BinaryTreeNode(leftChildData)\n",
    "            current_node.left=leftChild\n",
    "            q.put(leftChild)\n",
    "        print(\"Enter right child of\",current_node.data)\n",
    "        rightChildData=int(input())\n",
    "        if rightChildData!=-1:\n",
    "            rightChild=BinaryTreeNode(rightChildData)\n",
    "            current_node.right=rightChild\n",
    "            q.put(rightChild)\n",
    "    return root"
   ]
  },
  {
   "cell_type": "code",
   "execution_count": 11,
   "metadata": {},
   "outputs": [],
   "source": [
    "def minTree(root):\n",
    "    if root==None:\n",
    "        return 100000\n",
    "\n",
    "    leftMin=minTree(root.left)\n",
    "    rightMin=minTree(root.right)\n",
    "    return min(leftMin,rightMin,root.data)\n",
    "\n",
    "    "
   ]
  },
  {
   "cell_type": "code",
   "execution_count": 12,
   "metadata": {},
   "outputs": [],
   "source": [
    "def maxTree(root):\n",
    "    if root==None:\n",
    "        return -100000\n",
    "    leftMAx=maxTree(root.left)\n",
    "    rightMax=maxTree(root.right)\n",
    "    return max(leftMAx,rightMax,root.data)"
   ]
  },
  {
   "cell_type": "code",
   "execution_count": 6,
   "metadata": {},
   "outputs": [],
   "source": [
    "def isBst(root):\n",
    "    if root==None:\n",
    "        return True\n",
    "\n",
    "    leftMAx=maxTree(root.left)\n",
    "    rightMin=minTree(root.right)\n",
    "    if root.data>rightMin or root.data <=leftMAx:\n",
    "        return False\n",
    "\n",
    "    isLeftBst=isBst(root.left)\n",
    "    isRightBst=isBst(root.right)\n",
    "    return isLeftBst and isRightBst"
   ]
  },
  {
   "attachments": {},
   "cell_type": "markdown",
   "metadata": {},
   "source": [
    " THIS IS THE SECOND PROCESS FOR CHECKING BINAY SEARCH TREE "
   ]
  },
  {
   "cell_type": "code",
   "execution_count": 13,
   "metadata": {},
   "outputs": [],
   "source": [
    "def isBST2(root):\n",
    "    if root==None:\n",
    "        return 100000, -100000, True\n",
    "\n",
    "    leftMin, leftMax, isLeftBst=isBST2(root.left)\n",
    "    rightMin, rightMax, isRightBst=isBST2(root.right)\n",
    "\n",
    "\n",
    "    minimum = min(leftMin, rightMin, root.data)\n",
    "    maximum = min(rightMin,rightMax, root.data)\n",
    "    isTreeBST = True\n",
    "    if root.data <= leftMax or root.data > rightMin:\n",
    "        isTreeBST = False\n",
    "\n",
    "    if not(isLeftBst) or not (isRightBst):\n",
    "        isTreeBST = False\n",
    "\n",
    "    return minimum, maximum, isTreeBST"
   ]
  },
  {
   "attachments": {},
   "cell_type": "markdown",
   "metadata": {},
   "source": [
    "CHECKING IS BINARY SEARCH TREE 3\n"
   ]
  },
  {
   "cell_type": "code",
   "execution_count": 16,
   "metadata": {},
   "outputs": [],
   "source": [
    "def isBST3(root,min_range,max_range):\n",
    "    if root==None:\n",
    "        return True\n",
    "    if root.data<min_range or root.data>max_range:\n",
    "        return False\n",
    "    \n",
    "    isLeftWithinConstraints=isBST3(root.left,min_range,root.data-1)\n",
    "    isRightWithinConstraints=isBST3(root.right,root.data,max_range)\n",
    "    \n",
    "    return isLeftWithinConstraints and isRightWithinConstraints"
   ]
  },
  {
   "cell_type": "code",
   "execution_count": 18,
   "metadata": {},
   "outputs": [
    {
     "name": "stdout",
     "output_type": "stream",
     "text": [
      "Enter root\n",
      "Enter left child of 4\n",
      "Enter right child of 4\n",
      "Enter left child of 2\n",
      "Enter right child of 2\n",
      "Enter left child of 6\n",
      "Enter right child of 6\n",
      "Enter left child of 1\n",
      "Enter right child of 1\n",
      "Enter left child of 3\n",
      "Enter right child of 3\n",
      "Enter left child of 5\n",
      "Enter right child of 5\n",
      "Enter left child of 30\n",
      "Enter right child of 30\n",
      "4:L 2,R 6\n",
      "2:L 1,R 3\n",
      "1:\n",
      "3:\n",
      "6:L 5,R 30\n",
      "5:\n",
      "30:\n"
     ]
    },
    {
     "data": {
      "text/plain": [
       "True"
      ]
     },
     "execution_count": 18,
     "metadata": {},
     "output_type": "execute_result"
    }
   ],
   "source": [
    "root=takeTreeInputLevelWise()\n",
    "printTreeDetailed(root)\n",
    "isBST3(root,-100000,100000)"
   ]
  },
  {
   "cell_type": "code",
   "execution_count": null,
   "metadata": {},
   "outputs": [],
   "source": []
  }
 ],
 "metadata": {
  "kernelspec": {
   "display_name": "base",
   "language": "python",
   "name": "python3"
  },
  "language_info": {
   "codemirror_mode": {
    "name": "ipython",
    "version": 3
   },
   "file_extension": ".py",
   "mimetype": "text/x-python",
   "name": "python",
   "nbconvert_exporter": "python",
   "pygments_lexer": "ipython3",
   "version": "3.9.13 (main, Aug 25 2022, 23:51:50) [MSC v.1916 64 bit (AMD64)]"
  },
  "orig_nbformat": 4,
  "vscode": {
   "interpreter": {
    "hash": "19e3ed3879c13a0a3709fc77aecbc5c79d8539dfda6d4462a1c416bc4ea67350"
   }
  }
 },
 "nbformat": 4,
 "nbformat_minor": 2
}
