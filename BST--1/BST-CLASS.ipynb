{
 "cells": [
  {
   "attachments": {},
   "cell_type": "markdown",
   "metadata": {},
   "source": [
    "Implement the BST class which includes following functions -\n",
    "1. insert -\n",
    "Given an element, insert that element in the BST at the correct position. If element is equal to the data of the node, insert it in the left subtree.\n",
    "2. search\n",
    "Given an element, find if that is present in BST or not. Return true or false.\n",
    "3. delete -\n",
    "Given an element, remove that element from the BST. If the element which is to be deleted has both children, replace that with the minimum element from right sub-tree.\n",
    "4. printTree (recursive) -\n",
    "Print the BST in in the following format -\n",
    "For printing a node with data N, you need to follow the exact format -\n",
    "N:L:x,R:y\n",
    "where, N is data of any node present in the binary tree. x and y are the values of left and right child of node N. Print the children only if it is not null.\n",
    "There is no space in between.\n",
    "You need to print all nodes in the recursive format in different lines."
   ]
  }
 ],
 "metadata": {
  "kernelspec": {
   "display_name": "base",
   "language": "python",
   "name": "python3"
  },
  "language_info": {
   "codemirror_mode": {
    "name": "ipython",
    "version": 3
   },
   "file_extension": ".py",
   "mimetype": "text/x-python",
   "name": "python",
   "nbconvert_exporter": "python",
   "pygments_lexer": "ipython3",
   "version": "3.9.13 (main, Aug 25 2022, 23:51:50) [MSC v.1916 64 bit (AMD64)]"
  },
  "orig_nbformat": 4,
  "vscode": {
   "interpreter": {
    "hash": "19e3ed3879c13a0a3709fc77aecbc5c79d8539dfda6d4462a1c416bc4ea67350"
   }
  }
 },
 "nbformat": 4,
 "nbformat_minor": 2
}
