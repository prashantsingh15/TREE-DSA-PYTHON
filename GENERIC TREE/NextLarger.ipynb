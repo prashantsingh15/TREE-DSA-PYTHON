{
 "cells": [
  {
   "attachments": {},
   "cell_type": "markdown",
   "metadata": {},
   "source": [
    "Next larger\n",
    "Send Feedback\n",
    "Given a generic tree and an integer n. Find and return the node with next larger element in the tree i.e. find a node with value just greater than n.\n",
    "Note: Return NULL if no node is present with the value greater than n."
   ]
  },
  {
   "cell_type": "code",
   "execution_count": null,
   "metadata": {},
   "outputs": [],
   "source": [
    "from sys import stdin,setrecursionlimit\n",
    "setrecursionlimit(10**6)\n",
    "class treeNode:\n",
    "    def __init__(self, data):\n",
    "        self.data = data\n",
    "        self.children = []\n",
    "\n",
    "def nextLargest(tree, n):\n",
    "    ans = None\n",
    "    if not tree:\n",
    "        return ans\n",
    "    if tree.data > n:\n",
    "        ans = tree\n",
    "    for child in tree.children:\n",
    "        temp = nextLargest(child, n)\n",
    "        if temp:\n",
    "            if (not ans) or ans.data > temp.data:\n",
    "                ans = temp\n",
    "    return ans\n",
    "\n",
    "\n",
    "def createLevelWiseTree(arr):\n",
    "    root = treeNode(int(arr[0]))\n",
    "    q = [root]\n",
    "    size = len(arr)\n",
    "    i = 1\n",
    "    while i<size:\n",
    "        parent = q.pop(0)\n",
    "        childCount = int(arr[i])\n",
    "        i += 1\n",
    "        for j in range(0,childCount):\n",
    "            temp = treeNode(int(arr[i+j]))\n",
    "            parent.children.append(temp)\n",
    "            q.append(temp)\n",
    "        i += childCount\n",
    "    return root\n",
    "\n",
    "# Main\n",
    "arr = list(int(x) for x in stdin.readline().strip().split())\n",
    "n = int(input())\n",
    "tree = createLevelWiseTree(arr)\n",
    "if nextLargest(tree, n):\n",
    "    print(nextLargest(tree, n).data)"
   ]
  }
 ],
 "metadata": {
  "kernelspec": {
   "display_name": "base",
   "language": "python",
   "name": "python3"
  },
  "language_info": {
   "name": "python",
   "version": "3.9.13 (main, Aug 25 2022, 23:51:50) [MSC v.1916 64 bit (AMD64)]"
  },
  "orig_nbformat": 4,
  "vscode": {
   "interpreter": {
    "hash": "19e3ed3879c13a0a3709fc77aecbc5c79d8539dfda6d4462a1c416bc4ea67350"
   }
  }
 },
 "nbformat": 4,
 "nbformat_minor": 2
}
