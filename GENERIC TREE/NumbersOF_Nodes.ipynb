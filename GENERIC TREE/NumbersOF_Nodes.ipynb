{
 "cells": [
  {
   "cell_type": "code",
   "execution_count": 1,
   "metadata": {},
   "outputs": [],
   "source": [
    "class TreeNode:\n",
    "    def __init__(self,data):\n",
    "        self.data=data\n",
    "        self.children=list()\n",
    "\n",
    "def printTree(root):\n",
    "    #TNot a base case\n",
    "    if root==None:\n",
    "        return\n",
    "    print(root.data)\n",
    "    for child in root.children:\n",
    "        printTree(child)\n",
    "\n",
    "def printTreeDetailed(root):\n",
    "    if root==None:\n",
    "        return\n",
    "    \n",
    "    print(root.data,\":\",end=\"\")\n",
    "    for child in root.children:\n",
    "        print(child.data,\":\",end=\"\")\n",
    "    print()\n",
    "    \n",
    "    for child in root.children:\n",
    "        printTreeDetailed(child)\n",
    "\n",
    "def takeTreeInput():\n",
    "    print('Enter Root Data')\n",
    "    rootData=int(input())\n",
    "    if rootData==-1:\n",
    "        return None\n",
    "    \n",
    "    root=TreeNode(rootData)\n",
    "    \n",
    "    print('Enter number of children for',rootData)\n",
    "    childrenCount=int(input())\n",
    "    for i in range(childrenCount):\n",
    "        child=takeTreeInput()\n",
    "        root.children.append(child)\n",
    "    return root\n",
    "\n",
    "def numNodes(root):\n",
    "    if root==None:\n",
    "        return 0\n",
    "    count=1\n",
    "    for child in root.children:\n",
    "        count=count+numNodes(child)\n",
    "    return count"
   ]
  },
  {
   "cell_type": "code",
   "execution_count": 2,
   "metadata": {},
   "outputs": [
    {
     "name": "stdout",
     "output_type": "stream",
     "text": [
      "Enter Root Data\n",
      "Enter number of children for 1\n",
      "Enter Root Data\n",
      "Enter number of children for 2\n",
      "Enter Root Data\n",
      "Enter number of children for 3\n",
      "Enter Root Data\n",
      "Enter number of children for 5\n",
      "Enter Root Data\n",
      "Enter number of children for 6\n",
      "Enter Root Data\n",
      "Enter number of children for 7\n",
      "Enter Root Data\n",
      "Enter number of children for 8\n",
      "Enter Root Data\n",
      "Enter number of children for 9\n",
      "Enter Root Data\n",
      "Enter number of children for 4\n",
      "1 :2 :3 :4 :\n",
      "2 :\n",
      "3 :5 :6 :\n",
      "5 :\n",
      "6 :7 :8 :9 :\n",
      "7 :\n",
      "8 :\n",
      "9 :\n",
      "4 :\n",
      "9\n"
     ]
    }
   ],
   "source": [
    "root=takeTreeInput()\n",
    "printTreeDetailed(root)\n",
    "print(numNodes(root))"
   ]
  }
 ],
 "metadata": {
  "kernelspec": {
   "display_name": "base",
   "language": "python",
   "name": "python3"
  },
  "language_info": {
   "codemirror_mode": {
    "name": "ipython",
    "version": 3
   },
   "file_extension": ".py",
   "mimetype": "text/x-python",
   "name": "python",
   "nbconvert_exporter": "python",
   "pygments_lexer": "ipython3",
   "version": "3.9.13 (main, Aug 25 2022, 23:51:50) [MSC v.1916 64 bit (AMD64)]"
  },
  "orig_nbformat": 4,
  "vscode": {
   "interpreter": {
    "hash": "19e3ed3879c13a0a3709fc77aecbc5c79d8539dfda6d4462a1c416bc4ea67350"
   }
  }
 },
 "nbformat": 4,
 "nbformat_minor": 2
}
