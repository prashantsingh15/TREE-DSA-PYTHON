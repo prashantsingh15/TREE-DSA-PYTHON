{
 "cells": [
  {
   "attachments": {},
   "cell_type": "markdown",
   "metadata": {},
   "source": [
    "Node with maximum child sum\n",
    "Send Feedback\n",
    "Given a generic tree, find and return the node for which sum of its data and data of all its child nodes is maximum. In the sum, data of the node and data of its immediate child nodes has to be taken."
   ]
  },
  {
   "cell_type": "code",
   "execution_count": null,
   "metadata": {},
   "outputs": [],
   "source": [
    "from sys import stdin,setrecursionlimit\n",
    "setrecursionlimit(10**6)\n",
    "class treeNode:\n",
    "    def __init__(self, data):\n",
    "        self.data = data\n",
    "        self.children = []\n",
    "    def sum(self):\n",
    "        ans = self.data\n",
    "        for child in self.children:\n",
    "            ans += child.data\n",
    "        return ans\n",
    "\n",
    "def maxsumutil(root, resNode, maxsum):\n",
    "    if root == None:\n",
    "        return\n",
    "    currsum = root.data\n",
    "    \n",
    "    for i in range(len(root.children)):\n",
    "        currsum += root.children[i].data\n",
    "        resNode, maxsum = maxsumutil(root.children[i], resNode, maxsum)\n",
    "    \n",
    "    if currsum > maxsum:\n",
    "        resNode = root\n",
    "        maxsum = currsum\n",
    "    return resNode, maxsum\n",
    "    \n",
    "def maxSumNode(root):\n",
    "    resNode, maxsum = treeNode(None), 0\n",
    "    resNode, maxsum = maxsumutil(root, resNode, maxsum)\n",
    "    return resNode.data\n",
    "\n",
    "\n",
    "def createLevelWiseTree(arr):\n",
    "    root = treeNode(int(arr[0]))\n",
    "    q = [root]\n",
    "    size = len(arr)\n",
    "    i = 1\n",
    "    while i<size:\n",
    "        parent = q.pop(0)\n",
    "        childCount = int(arr[i])\n",
    "        i += 1\n",
    "        for j in range(0,childCount):\n",
    "            temp = treeNode(int(arr[i+j]))\n",
    "            parent.children.append(temp)\n",
    "            q.append(temp)\n",
    "        i += childCount\n",
    "    return root\n",
    "\n",
    "# Main\n",
    "arr = list(int(x) for x in stdin.readline().strip().split())\n",
    "tree = createLevelWiseTree(arr)\n",
    "#temp, tempSum = maxSumNode(tree)\n",
    "print(maxSumNode(tree))"
   ]
  }
 ],
 "metadata": {
  "language_info": {
   "name": "python"
  },
  "orig_nbformat": 4
 },
 "nbformat": 4,
 "nbformat_minor": 2
}
