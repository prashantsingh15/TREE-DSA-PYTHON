{
 "cells": [
  {
   "cell_type": "code",
   "execution_count": null,
   "metadata": {},
   "outputs": [],
   "source": [
    "class BinaryTreeNode:\n",
    "    def __init__(self,data):\n",
    "        self.data=data\n",
    "        self.left=None\n",
    "        self.right=None\n",
    "\n",
    "def printTree(root):\n",
    "    if root==None:\n",
    "        return\n",
    "    print(root.data)\n",
    "    printTree(root.left)\n",
    "    printTree(root.right)\n",
    "\n",
    "def printTreeDetailed(root):\n",
    "    if root==None:\n",
    "        return\n",
    "    print(root.data,end=\":\")\n",
    "    if root.left!=None:\n",
    "        print(\"L\",root.left.data,end=\",\")\n",
    "    if root.right!=None:\n",
    "        print(\"R\",root.right.data,end=\"\")\n",
    "    print()\n",
    "    printTreeDetailed(root.left)\n",
    "    printTreeDetailed(root.right)\n",
    "\n",
    "def treeInput():\n",
    "    rootData=int(input())\n",
    "    if rootData==-1:\n",
    "        return None\n",
    "    root=BinaryTreeNode(rootData)\n",
    "    leftTree=treeInput()\n",
    "    rightTree=treeInput()\n",
    "    root.left=leftTree\n",
    "    root.right=rightTree\n",
    "    return root"
   ]
  },
  {
   "attachments": {},
   "cell_type": "markdown",
   "metadata": {},
   "source": [
    "BASEE CASE GOES THERE WE CAN DONE THERE "
   ]
  },
  {
   "cell_type": "code",
   "execution_count": null,
   "metadata": {},
   "outputs": [],
   "source": [
    "def mirrorBinaryTree(root):\n",
    "    if root==None:\n",
    "        return \n",
    "\n",
    "    else:\n",
    "        temp=root\n",
    "        mirrorBinaryTree(root.left)\n",
    "        mirrorBinaryTree(root.right)\n",
    "\n",
    "        temp=(root.left)\n",
    "        root.left=root.right\n",
    "        root.right=temp"
   ]
  },
  {
   "cell_type": "code",
   "execution_count": null,
   "metadata": {},
   "outputs": [],
   "source": [
    "root=treeInput()\n",
    "BinaryTreeNode(root)\n",
    "print(mirrorBinaryTree(root))"
   ]
  }
 ],
 "metadata": {
  "kernelspec": {
   "display_name": "base",
   "language": "python",
   "name": "python3"
  },
  "language_info": {
   "codemirror_mode": {
    "name": "ipython",
    "version": 3
   },
   "file_extension": ".py",
   "mimetype": "text/x-python",
   "name": "python",
   "nbconvert_exporter": "python",
   "pygments_lexer": "ipython3",
   "version": "3.9.13 (main, Aug 25 2022, 23:51:50) [MSC v.1916 64 bit (AMD64)]"
  },
  "orig_nbformat": 4,
  "vscode": {
   "interpreter": {
    "hash": "19e3ed3879c13a0a3709fc77aecbc5c79d8539dfda6d4462a1c416bc4ea67350"
   }
  }
 },
 "nbformat": 4,
 "nbformat_minor": 2
}
